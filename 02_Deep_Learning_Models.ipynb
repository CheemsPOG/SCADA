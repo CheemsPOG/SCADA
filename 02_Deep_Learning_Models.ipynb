{
 "cells": [
  {
   "cell_type": "code",
   "execution_count": 1,
   "id": "2eb31824",
   "metadata": {},
   "outputs": [
    {
     "name": "stdout",
     "output_type": "stream",
     "text": [
      "Tải dữ liệu thành công!\n",
      "Kích thước X_train: (40424, 11)\n"
     ]
    }
   ],
   "source": [
    "import pandas as pd\n",
    "import numpy as np\n",
    "from sklearn.metrics import r2_score, mean_squared_error, mean_absolute_error\n",
    "from tensorflow.keras.models import Sequential\n",
    "from tensorflow.keras.layers import LSTM, GRU, Dense\n",
    "\n",
    "# Tải dữ liệu đã được tiền xử lý từ Notebook 1\n",
    "X_train = pd.read_csv('processed_X_train.csv').values\n",
    "y_train = pd.read_csv('processed_y_train.csv').values\n",
    "X_test = pd.read_csv('processed_X_test.csv').values\n",
    "y_test = pd.read_csv('processed_y_test.csv').values\n",
    "\n",
    "print(\"Tải dữ liệu thành công!\")\n",
    "print(\"Kích thước X_train:\", X_train.shape)\n"
   ]
  },
  {
   "cell_type": "code",
   "execution_count": 2,
   "id": "06006ae5",
   "metadata": {},
   "outputs": [
    {
     "name": "stdout",
     "output_type": "stream",
     "text": [
      "Kích thước dữ liệu huấn luyện cho DL: (40414, 10, 11)\n"
     ]
    }
   ],
   "source": [
    "# Hàm để tạo các cửa sổ thời gian (time windows/sequences)\n",
    "def create_sequences(X, y, time_steps=10): # ví dụ: nhìn lại 10 bước\n",
    "    Xs, ys = [], []\n",
    "    for i in range(len(X) - time_steps):\n",
    "        Xs.append(X[i:(i + time_steps)])\n",
    "        ys.append(y[i + time_steps])\n",
    "    return np.array(Xs), np.array(ys)\n",
    "\n",
    "TIME_STEPS = 10 # Mỗi chuỗi sẽ có 10 điểm dữ liệu quá khứ\n",
    "X_train_dl, y_train_dl = create_sequences(X_train, y_train, TIME_STEPS)\n",
    "X_test_dl, y_test_dl = create_sequences(X_test, y_test, TIME_STEPS)\n",
    "\n",
    "print(\"Kích thước dữ liệu huấn luyện cho DL:\", X_train_dl.shape)"
   ]
  }
 ],
 "metadata": {
  "kernelspec": {
   "display_name": ".venv",
   "language": "python",
   "name": "python3"
  },
  "language_info": {
   "codemirror_mode": {
    "name": "ipython",
    "version": 3
   },
   "file_extension": ".py",
   "mimetype": "text/x-python",
   "name": "python",
   "nbconvert_exporter": "python",
   "pygments_lexer": "ipython3",
   "version": "3.12.4"
  }
 },
 "nbformat": 4,
 "nbformat_minor": 5
}
